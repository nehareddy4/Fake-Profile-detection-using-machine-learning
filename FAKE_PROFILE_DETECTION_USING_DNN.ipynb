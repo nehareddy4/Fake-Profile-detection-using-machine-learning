{
  "cells": [
    {
      "cell_type": "markdown",
      "source": [
        "# FAKE PROFILE DETECTION USING DNN"
      ],
      "metadata": {
        "id": "tbXEJHB1NF1L"
      }
    },
    {
      "cell_type": "code",
      "execution_count": null,
      "metadata": {
        "id": "xF8-GvmAoDhg"
      },
      "outputs": [],
      "source": [
        "import numpy as np\n",
        "import pandas as pd\n",
        "import seaborn as sns\n",
        "import matplotlib.pyplot as plt\n",
        "from sklearn.model_selection import train_test_split\n",
        "from sklearn.preprocessing import StandardScaler\n",
        "from sklearn.metrics import classification_report,confusion_matrix,ConfusionMatrixDisplay\n",
        "import tensorflow as tf\n",
        "from tensorflow.keras.models import Sequential\n",
        "from tensorflow.keras.layers import Dense,Dropout,BatchNormalization"
      ]
    },
    {
      "cell_type": "code",
      "source": [
        "from google.colab import drive\n",
        "drive.mount('/content/drive')"
      ],
      "metadata": {
        "colab": {
          "base_uri": "https://localhost:8080/"
        },
        "id": "h2Ou1zah8eOL",
        "outputId": "dc4539a9-e839-43b5-8882-5ecc68aa2ab1"
      },
      "execution_count": null,
      "outputs": [
        {
          "output_type": "stream",
          "name": "stdout",
          "text": [
            "Drive already mounted at /content/drive; to attempt to forcibly remount, call drive.mount(\"/content/drive\", force_remount=True).\n"
          ]
        }
      ]
    },
    {
      "cell_type": "code",
      "execution_count": null,
      "metadata": {
        "id": "KeBWkoHFos59"
      },
      "outputs": [],
      "source": [
        "df=pd.read_csv(\"/content/drive/MyDrive/data.csv\")"
      ]
    },
    {
      "cell_type": "code",
      "execution_count": null,
      "metadata": {
        "colab": {
          "base_uri": "https://localhost:8080/",
          "height": 250
        },
        "id": "d-SlOtZwuSSn",
        "outputId": "6ccd71d4-986e-49db-e1f4-41c692062b20"
      },
      "outputs": [
        {
          "output_type": "execute_result",
          "data": {
            "text/plain": [
              "   Unnamed: 0  statuses_count  followers_count  friends_count  \\\n",
              "0           0           20370             5470           2385   \n",
              "1           1            3131              506            381   \n",
              "2           2            4024              264             87   \n",
              "3           3           40586              640            622   \n",
              "4           4            2016               62             64   \n",
              "\n",
              "   favourites_count  listed_count  utc_offset  created_at_year  lang_code  \\\n",
              "0               145            52        3600             2007          1   \n",
              "1                 9            40        3600             2007          0   \n",
              "2               323            16        3600             2007          0   \n",
              "3              1118            32        3600             2007          0   \n",
              "4                13             0        3600             2007          1   \n",
              "\n",
              "   label  \n",
              "0      0  \n",
              "1      0  \n",
              "2      0  \n",
              "3      0  \n",
              "4      0  "
            ],
            "text/html": [
              "\n",
              "  <div id=\"df-0cd2c093-516b-45da-ab71-50ac686e89af\">\n",
              "    <div class=\"colab-df-container\">\n",
              "      <div>\n",
              "<style scoped>\n",
              "    .dataframe tbody tr th:only-of-type {\n",
              "        vertical-align: middle;\n",
              "    }\n",
              "\n",
              "    .dataframe tbody tr th {\n",
              "        vertical-align: top;\n",
              "    }\n",
              "\n",
              "    .dataframe thead th {\n",
              "        text-align: right;\n",
              "    }\n",
              "</style>\n",
              "<table border=\"1\" class=\"dataframe\">\n",
              "  <thead>\n",
              "    <tr style=\"text-align: right;\">\n",
              "      <th></th>\n",
              "      <th>Unnamed: 0</th>\n",
              "      <th>statuses_count</th>\n",
              "      <th>followers_count</th>\n",
              "      <th>friends_count</th>\n",
              "      <th>favourites_count</th>\n",
              "      <th>listed_count</th>\n",
              "      <th>utc_offset</th>\n",
              "      <th>created_at_year</th>\n",
              "      <th>lang_code</th>\n",
              "      <th>label</th>\n",
              "    </tr>\n",
              "  </thead>\n",
              "  <tbody>\n",
              "    <tr>\n",
              "      <th>0</th>\n",
              "      <td>0</td>\n",
              "      <td>20370</td>\n",
              "      <td>5470</td>\n",
              "      <td>2385</td>\n",
              "      <td>145</td>\n",
              "      <td>52</td>\n",
              "      <td>3600</td>\n",
              "      <td>2007</td>\n",
              "      <td>1</td>\n",
              "      <td>0</td>\n",
              "    </tr>\n",
              "    <tr>\n",
              "      <th>1</th>\n",
              "      <td>1</td>\n",
              "      <td>3131</td>\n",
              "      <td>506</td>\n",
              "      <td>381</td>\n",
              "      <td>9</td>\n",
              "      <td>40</td>\n",
              "      <td>3600</td>\n",
              "      <td>2007</td>\n",
              "      <td>0</td>\n",
              "      <td>0</td>\n",
              "    </tr>\n",
              "    <tr>\n",
              "      <th>2</th>\n",
              "      <td>2</td>\n",
              "      <td>4024</td>\n",
              "      <td>264</td>\n",
              "      <td>87</td>\n",
              "      <td>323</td>\n",
              "      <td>16</td>\n",
              "      <td>3600</td>\n",
              "      <td>2007</td>\n",
              "      <td>0</td>\n",
              "      <td>0</td>\n",
              "    </tr>\n",
              "    <tr>\n",
              "      <th>3</th>\n",
              "      <td>3</td>\n",
              "      <td>40586</td>\n",
              "      <td>640</td>\n",
              "      <td>622</td>\n",
              "      <td>1118</td>\n",
              "      <td>32</td>\n",
              "      <td>3600</td>\n",
              "      <td>2007</td>\n",
              "      <td>0</td>\n",
              "      <td>0</td>\n",
              "    </tr>\n",
              "    <tr>\n",
              "      <th>4</th>\n",
              "      <td>4</td>\n",
              "      <td>2016</td>\n",
              "      <td>62</td>\n",
              "      <td>64</td>\n",
              "      <td>13</td>\n",
              "      <td>0</td>\n",
              "      <td>3600</td>\n",
              "      <td>2007</td>\n",
              "      <td>1</td>\n",
              "      <td>0</td>\n",
              "    </tr>\n",
              "  </tbody>\n",
              "</table>\n",
              "</div>\n",
              "      <button class=\"colab-df-convert\" onclick=\"convertToInteractive('df-0cd2c093-516b-45da-ab71-50ac686e89af')\"\n",
              "              title=\"Convert this dataframe to an interactive table.\"\n",
              "              style=\"display:none;\">\n",
              "        \n",
              "  <svg xmlns=\"http://www.w3.org/2000/svg\" height=\"24px\"viewBox=\"0 0 24 24\"\n",
              "       width=\"24px\">\n",
              "    <path d=\"M0 0h24v24H0V0z\" fill=\"none\"/>\n",
              "    <path d=\"M18.56 5.44l.94 2.06.94-2.06 2.06-.94-2.06-.94-.94-2.06-.94 2.06-2.06.94zm-11 1L8.5 8.5l.94-2.06 2.06-.94-2.06-.94L8.5 2.5l-.94 2.06-2.06.94zm10 10l.94 2.06.94-2.06 2.06-.94-2.06-.94-.94-2.06-.94 2.06-2.06.94z\"/><path d=\"M17.41 7.96l-1.37-1.37c-.4-.4-.92-.59-1.43-.59-.52 0-1.04.2-1.43.59L10.3 9.45l-7.72 7.72c-.78.78-.78 2.05 0 2.83L4 21.41c.39.39.9.59 1.41.59.51 0 1.02-.2 1.41-.59l7.78-7.78 2.81-2.81c.8-.78.8-2.07 0-2.86zM5.41 20L4 18.59l7.72-7.72 1.47 1.35L5.41 20z\"/>\n",
              "  </svg>\n",
              "      </button>\n",
              "      \n",
              "  <style>\n",
              "    .colab-df-container {\n",
              "      display:flex;\n",
              "      flex-wrap:wrap;\n",
              "      gap: 12px;\n",
              "    }\n",
              "\n",
              "    .colab-df-convert {\n",
              "      background-color: #E8F0FE;\n",
              "      border: none;\n",
              "      border-radius: 50%;\n",
              "      cursor: pointer;\n",
              "      display: none;\n",
              "      fill: #1967D2;\n",
              "      height: 32px;\n",
              "      padding: 0 0 0 0;\n",
              "      width: 32px;\n",
              "    }\n",
              "\n",
              "    .colab-df-convert:hover {\n",
              "      background-color: #E2EBFA;\n",
              "      box-shadow: 0px 1px 2px rgba(60, 64, 67, 0.3), 0px 1px 3px 1px rgba(60, 64, 67, 0.15);\n",
              "      fill: #174EA6;\n",
              "    }\n",
              "\n",
              "    [theme=dark] .colab-df-convert {\n",
              "      background-color: #3B4455;\n",
              "      fill: #D2E3FC;\n",
              "    }\n",
              "\n",
              "    [theme=dark] .colab-df-convert:hover {\n",
              "      background-color: #434B5C;\n",
              "      box-shadow: 0px 1px 3px 1px rgba(0, 0, 0, 0.15);\n",
              "      filter: drop-shadow(0px 1px 2px rgba(0, 0, 0, 0.3));\n",
              "      fill: #FFFFFF;\n",
              "    }\n",
              "  </style>\n",
              "\n",
              "      <script>\n",
              "        const buttonEl =\n",
              "          document.querySelector('#df-0cd2c093-516b-45da-ab71-50ac686e89af button.colab-df-convert');\n",
              "        buttonEl.style.display =\n",
              "          google.colab.kernel.accessAllowed ? 'block' : 'none';\n",
              "\n",
              "        async function convertToInteractive(key) {\n",
              "          const element = document.querySelector('#df-0cd2c093-516b-45da-ab71-50ac686e89af');\n",
              "          const dataTable =\n",
              "            await google.colab.kernel.invokeFunction('convertToInteractive',\n",
              "                                                     [key], {});\n",
              "          if (!dataTable) return;\n",
              "\n",
              "          const docLinkHtml = 'Like what you see? Visit the ' +\n",
              "            '<a target=\"_blank\" href=https://colab.research.google.com/notebooks/data_table.ipynb>data table notebook</a>'\n",
              "            + ' to learn more about interactive tables.';\n",
              "          element.innerHTML = '';\n",
              "          dataTable['output_type'] = 'display_data';\n",
              "          await google.colab.output.renderOutput(dataTable, element);\n",
              "          const docLink = document.createElement('div');\n",
              "          docLink.innerHTML = docLinkHtml;\n",
              "          element.appendChild(docLink);\n",
              "        }\n",
              "      </script>\n",
              "    </div>\n",
              "  </div>\n",
              "  "
            ]
          },
          "metadata": {},
          "execution_count": 477
        }
      ],
      "source": [
        "df.head()"
      ]
    },
    {
      "cell_type": "code",
      "execution_count": null,
      "metadata": {
        "id": "OJme0IOASfSs"
      },
      "outputs": [],
      "source": [
        "df.drop([\"Unnamed: 0\"],axis=1,inplace=True)"
      ]
    },
    {
      "cell_type": "code",
      "execution_count": null,
      "metadata": {
        "colab": {
          "base_uri": "https://localhost:8080/"
        },
        "id": "PJAB0R7LSgsQ",
        "outputId": "a7851132-da7a-4a4d-c5e5-262c726fe948"
      },
      "outputs": [
        {
          "output_type": "execute_result",
          "data": {
            "text/plain": [
              "Index(['statuses_count', 'followers_count', 'friends_count',\n",
              "       'favourites_count', 'listed_count', 'utc_offset', 'created_at_year',\n",
              "       'lang_code', 'label'],\n",
              "      dtype='object')"
            ]
          },
          "metadata": {},
          "execution_count": 479
        }
      ],
      "source": [
        "df.columns"
      ]
    },
    {
      "cell_type": "code",
      "execution_count": null,
      "metadata": {
        "id": "feNYMaoiUD-z"
      },
      "outputs": [],
      "source": [
        "df=df.sample(frac=1.0, replace=False,random_state=42).reset_index(drop=True)"
      ]
    },
    {
      "cell_type": "code",
      "execution_count": null,
      "metadata": {
        "colab": {
          "base_uri": "https://localhost:8080/"
        },
        "id": "IH2bP6Yd4hnc",
        "outputId": "a30e4ebc-8717-4278-85b4-81168a9a7d50"
      },
      "outputs": [
        {
          "output_type": "execute_result",
          "data": {
            "text/plain": [
              "(2818, 9)"
            ]
          },
          "metadata": {},
          "execution_count": 481
        }
      ],
      "source": [
        "df.shape"
      ]
    },
    {
      "cell_type": "code",
      "execution_count": null,
      "metadata": {
        "colab": {
          "base_uri": "https://localhost:8080/"
        },
        "id": "DH84qMxi4gc5",
        "outputId": "56b8a003-542e-4f1a-85cf-6d0c5612a069"
      },
      "outputs": [
        {
          "output_type": "stream",
          "name": "stdout",
          "text": [
            "<class 'pandas.core.frame.DataFrame'>\n",
            "RangeIndex: 2818 entries, 0 to 2817\n",
            "Data columns (total 9 columns):\n",
            " #   Column            Non-Null Count  Dtype\n",
            "---  ------            --------------  -----\n",
            " 0   statuses_count    2818 non-null   int64\n",
            " 1   followers_count   2818 non-null   int64\n",
            " 2   friends_count     2818 non-null   int64\n",
            " 3   favourites_count  2818 non-null   int64\n",
            " 4   listed_count      2818 non-null   int64\n",
            " 5   utc_offset        2818 non-null   int64\n",
            " 6   created_at_year   2818 non-null   int64\n",
            " 7   lang_code         2818 non-null   int64\n",
            " 8   label             2818 non-null   int64\n",
            "dtypes: int64(9)\n",
            "memory usage: 198.3 KB\n"
          ]
        }
      ],
      "source": [
        "df.info()"
      ]
    },
    {
      "cell_type": "code",
      "execution_count": null,
      "metadata": {
        "id": "8snZTZO9uxVm"
      },
      "outputs": [],
      "source": [
        "X=df.drop(\"label\",axis=1)\n",
        "y=df[\"label\"]"
      ]
    },
    {
      "cell_type": "code",
      "execution_count": null,
      "metadata": {
        "colab": {
          "base_uri": "https://localhost:8080/"
        },
        "id": "OvaCu_Xd4jcq",
        "outputId": "5abb8dc2-da8f-4daa-83f5-40811aaaeb7a"
      },
      "outputs": [
        {
          "output_type": "execute_result",
          "data": {
            "text/plain": [
              "0"
            ]
          },
          "metadata": {},
          "execution_count": 484
        }
      ],
      "source": [
        "df.isnull().sum().sum()"
      ]
    },
    {
      "cell_type": "markdown",
      "metadata": {
        "id": "EUp5a-gdvJ6f"
      },
      "source": [
        "### Train Test Split"
      ]
    },
    {
      "cell_type": "code",
      "execution_count": null,
      "metadata": {
        "id": "2HCq_l1VvJhi"
      },
      "outputs": [],
      "source": [
        "X_train,X_test,y_train,y_test=train_test_split(X,y,test_size=0.2,random_state=15)"
      ]
    },
    {
      "cell_type": "markdown",
      "metadata": {
        "id": "SzYoIu6Pu8Rd"
      },
      "source": [
        "### Data Preprocessing"
      ]
    },
    {
      "cell_type": "code",
      "execution_count": null,
      "metadata": {
        "id": "hNfd25ymu7Om"
      },
      "outputs": [],
      "source": [
        "scaler=StandardScaler()\n",
        "X_train=scaler.fit_transform(X_train)\n",
        "X_test=scaler.transform(X_test)"
      ]
    },
    {
      "cell_type": "code",
      "execution_count": null,
      "metadata": {
        "colab": {
          "base_uri": "https://localhost:8080/"
        },
        "id": "e5Gan_MzwVt3",
        "outputId": "af4418ef-2768-4a30-f193-b8d29c2bd6a7"
      },
      "outputs": [
        {
          "output_type": "execute_result",
          "data": {
            "text/plain": [
              "(2254, 8)"
            ]
          },
          "metadata": {},
          "execution_count": 487
        }
      ],
      "source": [
        "X_train.shape"
      ]
    },
    {
      "cell_type": "code",
      "execution_count": null,
      "metadata": {
        "colab": {
          "base_uri": "https://localhost:8080/"
        },
        "id": "8B7RsWaGxU4R",
        "outputId": "5b0733ea-97a3-4b42-f6d1-fa0ad6c0df32"
      },
      "outputs": [
        {
          "output_type": "execute_result",
          "data": {
            "text/plain": [
              "(2254,)"
            ]
          },
          "metadata": {},
          "execution_count": 488
        }
      ],
      "source": [
        "y_train.shape"
      ]
    },
    {
      "cell_type": "markdown",
      "metadata": {
        "id": "ZPHi3biLwF8L"
      },
      "source": [
        "### Model Creation"
      ]
    },
    {
      "cell_type": "code",
      "source": [
        "tf.random.set_seed(15)\n",
        "model=Sequential()\n",
        "model.add(Dense(1024,input_shape=X_train.shape[1:],activation=\"relu\"))\n",
        "model.add(Dropout(0.7))\n",
        "model.add(BatchNormalization())\n",
        "model.add(Dense(256,activation=\"relu\"))\n",
        "model.add(Dropout(0.6))\n",
        "model.add(BatchNormalization())\n",
        "model.add(Dense(64,activation=\"relu\"))\n",
        "model.add(Dropout(0.6))\n",
        "model.add(BatchNormalization())\n",
        "model.add(Dense(1,activation=\"sigmoid\"))\n",
        "model.compile(optimizer=\"adam\",loss=\"binary_crossentropy\",metrics=[\"accuracy\"])\n",
        "history=model.fit(X_train,y_train,batch_size=64,epochs=50,validation_data=(X_test,y_test),workers=-1,use_multiprocessing=True)"
      ],
      "metadata": {
        "colab": {
          "base_uri": "https://localhost:8080/"
        },
        "id": "I0snGkXY_QrN",
        "outputId": "e0ac9580-41bf-4daf-a9d4-bef8c873befe"
      },
      "execution_count": null,
      "outputs": [
        {
          "output_type": "stream",
          "name": "stdout",
          "text": [
            "Epoch 1/50\n",
            "36/36 [==============================] - 4s 20ms/step - loss: 0.2440 - accuracy: 0.9215 - val_loss: 0.3224 - val_accuracy: 0.9805\n",
            "Epoch 2/50\n",
            "36/36 [==============================] - 0s 11ms/step - loss: 0.0874 - accuracy: 0.9858 - val_loss: 0.2382 - val_accuracy: 0.9965\n",
            "Epoch 3/50\n",
            "36/36 [==============================] - 0s 12ms/step - loss: 0.0580 - accuracy: 0.9925 - val_loss: 0.1771 - val_accuracy: 0.9965\n",
            "Epoch 4/50\n",
            "36/36 [==============================] - 0s 10ms/step - loss: 0.0487 - accuracy: 0.9947 - val_loss: 0.1282 - val_accuracy: 0.9965\n",
            "Epoch 5/50\n",
            "36/36 [==============================] - 0s 10ms/step - loss: 0.0381 - accuracy: 0.9960 - val_loss: 0.0948 - val_accuracy: 0.9965\n",
            "Epoch 6/50\n",
            "36/36 [==============================] - 0s 11ms/step - loss: 0.0328 - accuracy: 0.9951 - val_loss: 0.0754 - val_accuracy: 0.9965\n",
            "Epoch 7/50\n",
            "36/36 [==============================] - 0s 11ms/step - loss: 0.0264 - accuracy: 0.9956 - val_loss: 0.0460 - val_accuracy: 0.9965\n",
            "Epoch 8/50\n",
            "36/36 [==============================] - 0s 12ms/step - loss: 0.0249 - accuracy: 0.9960 - val_loss: 0.0330 - val_accuracy: 0.9965\n",
            "Epoch 9/50\n",
            "36/36 [==============================] - 0s 8ms/step - loss: 0.0238 - accuracy: 0.9951 - val_loss: 0.0249 - val_accuracy: 0.9965\n",
            "Epoch 10/50\n",
            "36/36 [==============================] - 0s 7ms/step - loss: 0.0275 - accuracy: 0.9956 - val_loss: 0.0180 - val_accuracy: 0.9965\n",
            "Epoch 11/50\n",
            "36/36 [==============================] - 0s 8ms/step - loss: 0.0261 - accuracy: 0.9947 - val_loss: 0.0163 - val_accuracy: 0.9965\n",
            "Epoch 12/50\n",
            "36/36 [==============================] - 0s 7ms/step - loss: 0.0195 - accuracy: 0.9960 - val_loss: 0.0123 - val_accuracy: 0.9982\n",
            "Epoch 13/50\n",
            "36/36 [==============================] - 0s 7ms/step - loss: 0.0184 - accuracy: 0.9965 - val_loss: 0.0113 - val_accuracy: 0.9965\n",
            "Epoch 14/50\n",
            "36/36 [==============================] - 0s 7ms/step - loss: 0.0180 - accuracy: 0.9956 - val_loss: 0.0112 - val_accuracy: 0.9965\n",
            "Epoch 15/50\n",
            "36/36 [==============================] - 0s 7ms/step - loss: 0.0238 - accuracy: 0.9942 - val_loss: 0.0133 - val_accuracy: 0.9947\n",
            "Epoch 16/50\n",
            "36/36 [==============================] - 0s 8ms/step - loss: 0.0190 - accuracy: 0.9978 - val_loss: 0.0099 - val_accuracy: 0.9965\n",
            "Epoch 17/50\n",
            "36/36 [==============================] - 0s 7ms/step - loss: 0.0190 - accuracy: 0.9947 - val_loss: 0.0112 - val_accuracy: 0.9965\n",
            "Epoch 18/50\n",
            "36/36 [==============================] - 0s 9ms/step - loss: 0.0190 - accuracy: 0.9960 - val_loss: 0.0131 - val_accuracy: 0.9965\n",
            "Epoch 19/50\n",
            "36/36 [==============================] - 0s 7ms/step - loss: 0.0125 - accuracy: 0.9978 - val_loss: 0.0118 - val_accuracy: 0.9965\n",
            "Epoch 20/50\n",
            "36/36 [==============================] - 0s 7ms/step - loss: 0.0176 - accuracy: 0.9965 - val_loss: 0.0105 - val_accuracy: 0.9965\n",
            "Epoch 21/50\n",
            "36/36 [==============================] - 0s 7ms/step - loss: 0.0149 - accuracy: 0.9969 - val_loss: 0.0117 - val_accuracy: 0.9965\n",
            "Epoch 22/50\n",
            "36/36 [==============================] - 0s 7ms/step - loss: 0.0213 - accuracy: 0.9951 - val_loss: 0.0094 - val_accuracy: 0.9965\n",
            "Epoch 23/50\n",
            "36/36 [==============================] - 0s 7ms/step - loss: 0.0190 - accuracy: 0.9956 - val_loss: 0.0105 - val_accuracy: 0.9965\n",
            "Epoch 24/50\n",
            "36/36 [==============================] - 0s 7ms/step - loss: 0.0124 - accuracy: 0.9973 - val_loss: 0.0114 - val_accuracy: 0.9965\n",
            "Epoch 25/50\n",
            "36/36 [==============================] - 0s 7ms/step - loss: 0.0190 - accuracy: 0.9947 - val_loss: 0.0112 - val_accuracy: 0.9965\n",
            "Epoch 26/50\n",
            "36/36 [==============================] - 0s 8ms/step - loss: 0.0126 - accuracy: 0.9978 - val_loss: 0.0096 - val_accuracy: 0.9965\n",
            "Epoch 27/50\n",
            "36/36 [==============================] - 0s 7ms/step - loss: 0.0169 - accuracy: 0.9965 - val_loss: 0.0081 - val_accuracy: 0.9965\n",
            "Epoch 28/50\n",
            "36/36 [==============================] - 0s 7ms/step - loss: 0.0200 - accuracy: 0.9947 - val_loss: 0.0068 - val_accuracy: 0.9965\n",
            "Epoch 29/50\n",
            "36/36 [==============================] - 0s 7ms/step - loss: 0.0167 - accuracy: 0.9965 - val_loss: 0.0078 - val_accuracy: 0.9965\n",
            "Epoch 30/50\n",
            "36/36 [==============================] - 0s 7ms/step - loss: 0.0153 - accuracy: 0.9956 - val_loss: 0.0097 - val_accuracy: 0.9965\n",
            "Epoch 31/50\n",
            "36/36 [==============================] - 0s 7ms/step - loss: 0.0164 - accuracy: 0.9969 - val_loss: 0.0107 - val_accuracy: 0.9965\n",
            "Epoch 32/50\n",
            "36/36 [==============================] - 0s 7ms/step - loss: 0.0118 - accuracy: 0.9960 - val_loss: 0.0086 - val_accuracy: 0.9965\n",
            "Epoch 33/50\n",
            "36/36 [==============================] - 0s 9ms/step - loss: 0.0137 - accuracy: 0.9960 - val_loss: 0.0090 - val_accuracy: 0.9965\n",
            "Epoch 34/50\n",
            "36/36 [==============================] - 0s 7ms/step - loss: 0.0103 - accuracy: 0.9969 - val_loss: 0.0106 - val_accuracy: 0.9965\n",
            "Epoch 35/50\n",
            "36/36 [==============================] - 0s 7ms/step - loss: 0.0196 - accuracy: 0.9942 - val_loss: 0.0115 - val_accuracy: 0.9965\n",
            "Epoch 36/50\n",
            "36/36 [==============================] - 0s 7ms/step - loss: 0.0171 - accuracy: 0.9969 - val_loss: 0.0119 - val_accuracy: 0.9965\n",
            "Epoch 37/50\n",
            "36/36 [==============================] - 0s 7ms/step - loss: 0.0090 - accuracy: 0.9987 - val_loss: 0.0105 - val_accuracy: 0.9965\n",
            "Epoch 38/50\n",
            "36/36 [==============================] - 0s 7ms/step - loss: 0.0153 - accuracy: 0.9965 - val_loss: 0.0107 - val_accuracy: 0.9965\n",
            "Epoch 39/50\n",
            "36/36 [==============================] - 0s 7ms/step - loss: 0.0137 - accuracy: 0.9960 - val_loss: 0.0106 - val_accuracy: 0.9965\n",
            "Epoch 40/50\n",
            "36/36 [==============================] - 0s 8ms/step - loss: 0.0086 - accuracy: 0.9973 - val_loss: 0.0094 - val_accuracy: 0.9965\n",
            "Epoch 41/50\n",
            "36/36 [==============================] - 0s 8ms/step - loss: 0.0049 - accuracy: 1.0000 - val_loss: 0.0107 - val_accuracy: 0.9965\n",
            "Epoch 42/50\n",
            "36/36 [==============================] - 0s 7ms/step - loss: 0.0052 - accuracy: 0.9987 - val_loss: 0.0095 - val_accuracy: 0.9965\n",
            "Epoch 43/50\n",
            "36/36 [==============================] - 0s 7ms/step - loss: 0.0091 - accuracy: 0.9978 - val_loss: 0.0094 - val_accuracy: 0.9965\n",
            "Epoch 44/50\n",
            "36/36 [==============================] - 0s 7ms/step - loss: 0.0094 - accuracy: 0.9978 - val_loss: 0.0090 - val_accuracy: 0.9965\n",
            "Epoch 45/50\n",
            "36/36 [==============================] - 0s 7ms/step - loss: 0.0114 - accuracy: 0.9960 - val_loss: 0.0088 - val_accuracy: 0.9965\n",
            "Epoch 46/50\n",
            "36/36 [==============================] - 0s 9ms/step - loss: 0.0089 - accuracy: 0.9987 - val_loss: 0.0073 - val_accuracy: 0.9965\n",
            "Epoch 47/50\n",
            "36/36 [==============================] - 0s 11ms/step - loss: 0.0053 - accuracy: 0.9982 - val_loss: 0.0072 - val_accuracy: 0.9982\n",
            "Epoch 48/50\n",
            "36/36 [==============================] - 0s 13ms/step - loss: 0.0099 - accuracy: 0.9965 - val_loss: 0.0072 - val_accuracy: 0.9965\n",
            "Epoch 49/50\n",
            "36/36 [==============================] - 0s 11ms/step - loss: 0.0126 - accuracy: 0.9965 - val_loss: 0.0047 - val_accuracy: 0.9982\n",
            "Epoch 50/50\n",
            "36/36 [==============================] - 0s 11ms/step - loss: 0.0096 - accuracy: 0.9965 - val_loss: 0.0054 - val_accuracy: 0.9982\n"
          ]
        }
      ]
    },
    {
      "cell_type": "code",
      "source": [
        "epochs=range(len(history.history[\"loss\"]))\n",
        "plt.plot(epochs,history.history[\"loss\"])\n",
        "plt.plot(epochs,history.history[\"val_loss\"])\n",
        "plt.legend([\"Training Loss\",\"Testing Loss\"])\n",
        "plt.title(\"Training vs Testing Loss\")\n",
        "plt.show()"
      ],
      "metadata": {
        "colab": {
          "base_uri": "https://localhost:8080/",
          "height": 452
        },
        "id": "BYeZnkIuJeOQ",
        "outputId": "09f3a710-30b8-40d5-d85f-a3b1f3eaa474"
      },
      "execution_count": null,
      "outputs": [
        {
          "output_type": "display_data",
          "data": {
            "text/plain": [
              "<Figure size 640x480 with 1 Axes>"
            ],
            "image/png": "[encoded data removed]"
          },
          "metadata": {}
        }
      ]
    },
    {
      "cell_type": "code",
      "source": [
        "epochs=range(len(history.history[\"loss\"]))\n",
        "plt.plot(epochs,history.history[\"accuracy\"])\n",
        "plt.plot(epochs,history.history[\"val_accuracy\"])\n",
        "plt.legend([\"Training accuracy\",\"Testing accuracy\"])\n",
        "plt.title(\"Training vs Testing accuracy\")\n",
        "plt.show()"
      ],
      "metadata": {
        "colab": {
          "base_uri": "https://localhost:8080/",
          "height": 452
        },
        "id": "99ZEKhA1KBtn",
        "outputId": "5fb18398-1038-4d22-9172-9f45cb7b12d8"
      },
      "execution_count": null,
      "outputs": [
        {
          "output_type": "display_data",
          "data": {
            "text/plain": [
              "<Figure size 640x480 with 1 Axes>"
            ],
            "image/png": "[encoded data removed]"
          },
          "metadata": {}
        }
      ]
    },
    {
      "cell_type": "code",
      "source": [
        "print(\"Training accuracy :\",max(history.history[\"accuracy\"])*100,end=\" \")\n",
        "print(\"Testing accuracy :\",max(history.history[\"val_accuracy\"])*100)"
      ],
      "metadata": {
        "colab": {
          "base_uri": "https://localhost:8080/"
        },
        "id": "rvKEFWjT_faY",
        "outputId": "98a82f91-9fba-4f06-f9e7-d58b1c547a6a"
      },
      "execution_count": null,
      "outputs": [
        {
          "output_type": "stream",
          "name": "stdout",
          "text": [
            "Training accuracy : 100.0 Testing accuracy : 99.82269406318665\n"
          ]
        }
      ]
    },
    {
      "cell_type": "code",
      "source": [
        "y_pred=model.predict(X_test)"
      ],
      "metadata": {
        "colab": {
          "base_uri": "https://localhost:8080/"
        },
        "id": "HVatMoqfAVUm",
        "outputId": "5000f1df-93c2-4994-cf39-1566a14d6cad"
      },
      "execution_count": null,
      "outputs": [
        {
          "output_type": "stream",
          "name": "stdout",
          "text": [
            "18/18 [==============================] - 0s 3ms/step\n"
          ]
        }
      ]
    },
    {
      "cell_type": "code",
      "source": [
        "y_pred=np.array(list(map(lambda x: 0 if x<0.5 else 1, y_pred)))"
      ],
      "metadata": {
        "id": "281w-2_gAqlI"
      },
      "execution_count": null,
      "outputs": []
    },
    {
      "cell_type": "code",
      "execution_count": null,
      "metadata": {
        "colab": {
          "base_uri": "https://localhost:8080/"
        },
        "id": "uTNicoRM6ryT",
        "outputId": "5a82f0fd-4dee-4bcc-8445-11dc0fb5de36"
      },
      "outputs": [
        {
          "output_type": "execute_result",
          "data": {
            "text/plain": [
              "0    291\n",
              "1    273\n",
              "dtype: int64"
            ]
          },
          "metadata": {},
          "execution_count": 495
        }
      ],
      "source": [
        "pd.Series(y_pred).value_counts()"
      ]
    },
    {
      "cell_type": "code",
      "execution_count": null,
      "metadata": {
        "colab": {
          "base_uri": "https://localhost:8080/"
        },
        "id": "qNzU6HtJ-Ld2",
        "outputId": "7d0bea0f-1c9d-4dc0-87aa-9c7df5ffa5d2"
      },
      "outputs": [
        {
          "output_type": "execute_result",
          "data": {
            "text/plain": [
              "0    290\n",
              "1    274\n",
              "Name: label, dtype: int64"
            ]
          },
          "metadata": {},
          "execution_count": 496
        }
      ],
      "source": [
        "y_test.value_counts()"
      ]
    },
    {
      "cell_type": "code",
      "execution_count": null,
      "metadata": {
        "colab": {
          "base_uri": "https://localhost:8080/",
          "height": 466
        },
        "id": "-dXAE7DGBLMM",
        "outputId": "59c69426-9a23-4f4b-9446-16d05822f419"
      },
      "outputs": [
        {
          "output_type": "execute_result",
          "data": {
            "text/plain": [
              "<Axes: xlabel='label'>"
            ]
          },
          "metadata": {},
          "execution_count": 497
        },
        {
          "output_type": "display_data",
          "data": {
            "text/plain": [
              "<Figure size 640x480 with 1 Axes>"
            ],
            "image/png": "[encoded data removed]"
          },
          "metadata": {}
        }
      ],
      "source": [
        "sns.regplot(x=y_test,y=y_pred,ci=None,color='red')"
      ]
    },
    {
      "cell_type": "code",
      "execution_count": null,
      "metadata": {
        "colab": {
          "base_uri": "https://localhost:8080/"
        },
        "id": "RyTkE8G-CfTG",
        "outputId": "1fadf402-2910-449a-f60e-46fcb6b733db"
      },
      "outputs": [
        {
          "output_type": "stream",
          "name": "stdout",
          "text": [
            "              precision    recall  f1-score   support\n",
            "\n",
            "           0       1.00      1.00      1.00       290\n",
            "           1       1.00      1.00      1.00       274\n",
            "\n",
            "    accuracy                           1.00       564\n",
            "   macro avg       1.00      1.00      1.00       564\n",
            "weighted avg       1.00      1.00      1.00       564\n",
            "\n"
          ]
        }
      ],
      "source": [
        "print(classification_report(y_test,y_pred))"
      ]
    },
    {
      "cell_type": "code",
      "execution_count": null,
      "metadata": {
        "colab": {
          "base_uri": "https://localhost:8080/",
          "height": 501
        },
        "id": "6DWVW1lmCkqE",
        "outputId": "650a7dda-7251-490e-896e-f81373fb5fcf"
      },
      "outputs": [
        {
          "output_type": "stream",
          "name": "stdout",
          "text": [
            "Confusion matrix\n",
            "[[290   0]\n",
            " [  1 273]]\n"
          ]
        },
        {
          "output_type": "display_data",
          "data": {
            "text/plain": [
              "<Figure size 640x480 with 2 Axes>"
            ],
            "image/png": "[encoded data removed]"
          },
          "metadata": {}
        }
      ],
      "source": [
        "cm=confusion_matrix(y_test,y_pred)\n",
        "print('Confusion matrix')\n",
        "print(cm)\n",
        "ConfusionMatrixDisplay(confusion_matrix=cm,display_labels=[\"real\",\"fake\"]).plot(cmap=plt.cm.Blues)\n",
        "plt.grid(False)"
      ]
    },
    {
      "cell_type": "code",
      "execution_count": null,
      "metadata": {
        "id": "ELC9M8KqMlAY"
      },
      "outputs": [],
      "source": [
        "# !pip install gradio"
      ]
    },
    {
      "cell_type": "code",
      "execution_count": null,
      "metadata": {
        "colab": {
          "base_uri": "https://localhost:8080/",
          "height": 618
        },
        "id": "LNM5j9AZLfTw",
        "outputId": "554c686a-bb00-454e-c755-398a8d84373b"
      },
      "outputs": [
        {
          "output_type": "stream",
          "name": "stdout",
          "text": [
            "Colab notebook detected. To show errors in colab notebook, set debug=True in launch()\n",
            "Note: opening Chrome Inspector may crash demo inside Colab notebooks.\n",
            "\n",
            "To create a public link, set `share=True` in `launch()`.\n"
          ]
        },
        {
          "output_type": "display_data",
          "data": {
            "text/plain": [
              "<IPython.core.display.Javascript object>"
            ],
            "application/javascript": [
              "(async (port, path, width, height, cache, element) => {\n",
              "                        if (!google.colab.kernel.accessAllowed && !cache) {\n",
              "                            return;\n",
              "                        }\n",
              "                        element.appendChild(document.createTextNode(''));\n",
              "                        const url = await google.colab.kernel.proxyPort(port, {cache});\n",
              "\n",
              "                        const external_link = document.createElement('div');\n",
              "                        external_link.innerHTML = `\n",
              "                            <div style=\"font-family: monospace; margin-bottom: 0.5rem\">\n",
              "                                Running on <a href=${new URL(path, url).toString()} target=\"_blank\">\n",
              "                                    https://localhost:${port}${path}\n",
              "                                </a>\n",
              "                            </div>\n",
              "                        `;\n",
              "                        element.appendChild(external_link);\n",
              "\n",
              "                        const iframe = document.createElement('iframe');\n",
              "                        iframe.src = new URL(path, url).toString();\n",
              "                        iframe.height = height;\n",
              "                        iframe.allow = \"autoplay; camera; microphone; clipboard-read; clipboard-write;\"\n",
              "                        iframe.width = width;\n",
              "                        iframe.style.border = 0;\n",
              "                        element.appendChild(iframe);\n",
              "                    })(7872, \"/\", \"100%\", 500, false, window.element)"
            ]
          },
          "metadata": {}
        },
        {
          "output_type": "execute_result",
          "data": {
            "text/plain": []
          },
          "metadata": {},
          "execution_count": 503
        }
      ],
      "source": [
        "# import gradio as gr\n",
        "\n",
        "# def predict(statuses_count,followers_count,friends_count,favourites_count,listed_count,utc_offset,created_at_year,lang_code):\n",
        "#   input_list = [statuses_count, followers_count, friends_count, favourites_count, listed_count, utc_offset, created_at_year, lang_code]\n",
        "#   input=scaler.transform(np.array(input_list).reshape(1,8))\n",
        "#   pred=model.predict(input)\n",
        "#   if pred>=0.5:\n",
        "#     return \"fake\"\n",
        "#   else:\n",
        "#     return \"real\"\n",
        "\n",
        "\n",
        "# gr.Interface(fn=predict, inputs=[\"text\"]*8, outputs=\"text\").launch()"
      ]
    }
  ],
  "metadata": {
    "accelerator": "GPU",
    "colab": {
      "provenance": []
    },
    "gpuClass": "standard",
    "kernelspec": {
      "display_name": "Python 3",
      "name": "python3"
    },
    "language_info": {
      "name": "python"
    }
  },
  "nbformat": 4,
  "nbformat_minor": 0
}